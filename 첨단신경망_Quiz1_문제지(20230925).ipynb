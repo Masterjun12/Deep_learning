{
 "cells": [
  {
   "cell_type": "markdown",
   "id": "addff057",
   "metadata": {},
   "source": [
    "## 첨단신경망 Quiz 1 \n",
    "\n",
    "- Quiz 시간: 2023년 9월 <font color = blue>25일</font> 10:30분부터 <font color = blue>27일</font> 10:30분까지.<br><br>\n",
    "\n",
    "- 파일이름 작성방법: 첨단신경망_Quiz1_학번_성명.ipynb<br><br>\n",
    "\n",
    "- <font color = red>주의사항1: jupyternotebook file로만 제출 받습니다.</font><br>\n",
    "- <font color = red>주의사항2: jupyternotebook file을 실행해본 후 upload하세요</font><br>\n",
    "- <font color = red>주의사항3: 모든 코드 중에 Tensorflow, Pytorch 등 본인이 익숙한 라이브러리를 골라서 쓸 수 있습니다.</font><br><br>\n",
    "\n",
    "- 답안지 제출:\n",
    "   www.webhard.co.kr<br>\n",
    "   ID: lindsey<br>\n",
    "   PW: start<br>\n",
    "   답안제출 Folder: 올리기전용/첨단신경망/Quiz1 답안제출폴더\"에 답안제출.<br><br>\n",
    "   \n",
    "- 빈칸에 프로그램을 작성한 후 실행결과를 제출.\n",
    "\n",
    "- Quiz는 답안체출 기한 이후에 upload된 file은 인정하지 않습니다."
   ]
  },
  {
   "cell_type": "markdown",
   "id": "ad7aa99c",
   "metadata": {},
   "source": [
    "[문제 1] 컨볼루션 신경망에서 컨볼루션 레이어는 어떤 용도로 사용되나요? \n",
    "간단한 컨볼루션 레이어를 생성하고 Python 코드 예제를 사용하여 해당 매개변수를 설명하시오.\n",
    "- 답변에는 다음 사항이 포함되어야 한다: \n",
    "> - 컨볼루션 레이어의 역할에 대한 설명\n",
    "> - 예제 코드 \n",
    "> - 각 파라미터에 대한 설명"
   ]
  },
  {
   "cell_type": "markdown",
   "id": "85b99ae8",
   "metadata": {},
   "source": [
    "답변:"
   ]
  },
  {
   "cell_type": "code",
   "execution_count": null,
   "id": "7303bbee",
   "metadata": {},
   "outputs": [],
   "source": []
  },
  {
   "cell_type": "markdown",
   "id": "443225e0",
   "metadata": {},
   "source": [
    "[문제 2] 컨볼루션 신경망에서 풀링 레이어의 역할은 무엇인가요? \n",
    "샘플 Python 코드를 사용하여 최대 풀링 연산을 시연하고 피처 맵의 크기에 어떤 영향을 미치는지 설명하시오.\n",
    "- 답변에는 다음 사항이 포함되어야 한다:\n",
    "> - 풀링 레이어의 역할에 대한 설명\n",
    "> - 샘플 코드\n",
    "> - 피처 맵 크기 변화에 대한 설명"
   ]
  },
  {
   "cell_type": "markdown",
   "id": "36a50e02",
   "metadata": {},
   "source": [
    "답변:"
   ]
  },
  {
   "cell_type": "code",
   "execution_count": 4,
   "id": "2b71ebeb",
   "metadata": {},
   "outputs": [],
   "source": []
  },
  {
   "cell_type": "markdown",
   "id": "d78503d7",
   "metadata": {},
   "source": [
    "[문제 3] 이 과정에서 사용되는 일반적인 컨볼루션 신경망 아키텍처(예: LeNet, AlexNet, ResNet)를 3개 이상 간략하게 설명하시오.\n",
    "- 답변에는 다음 사항이 포함되어야 한다:\n",
    "> - 아키텍처의 이름\n",
    "> - 구조 다이어그램\n",
    "> - 간단한 설명\n",
    "> - 각각의 장단점, 그리고 나오는 의미를 요약함"
   ]
  },
  {
   "cell_type": "markdown",
   "id": "57b53451",
   "metadata": {},
   "source": [
    "답변:\n"
   ]
  },
  {
   "cell_type": "markdown",
   "id": "8d3efab0",
   "metadata": {},
   "source": [
    "[문제 4] Python과 공개적으로 사용 가능한 이미지 데이터 세트 CIFAR-10[ https://www.cs.toronto.edu/~kriz/cifar.html ]을 사용하여 이미지 분류를 위한 컨볼루션 신경망 모델(AlexNet)을 생성하시오. 모델의 훈련 과정과 최종 성능 평가를 시연하시오.\n",
    "- 답변에는 다음 사항이 포함되어야 한다:\n",
    "> - AlexNet 코드\n",
    "> - 모델 훈련 및 평가 결과"
   ]
  },
  {
   "cell_type": "code",
   "execution_count": null,
   "id": "2fac919c",
   "metadata": {},
   "outputs": [],
   "source": []
  },
  {
   "cell_type": "code",
   "execution_count": null,
   "id": "c83eccee",
   "metadata": {},
   "outputs": [],
   "source": []
  },
  {
   "cell_type": "markdown",
   "id": "0e76388c",
   "metadata": {},
   "source": [
    "[문제 5] 전이 학습이 무엇이며 컨볼루션 신경망에서 전이 학습을 사용하는 것이 왜 유용한지 설명하시오. \n",
    "Python 샘플 코드를 사용하여 전이 학습을 위해 위<font color = blue>[문제 4]</font>에서 사전 학습된 AlexNet 모델을 사용하는 방법을 시연하시오.\n",
    "- 답변에는 다음 사항이 포함되어야 한다: \n",
    "> - 전이 학습에 대한 설명\n",
    "> - 학습된 모델을 사용하여 소규모 데이터 세트 Cats and Dogs[ https://www.kaggle.com/datasets/samuelcortinhas/cats-and-dogs-image-classification ]에 대한 전이 학습 모델 구현\n",
    "> - 구현법에 대한 설명"
   ]
  },
  {
   "cell_type": "markdown",
   "id": "8aeb1faa",
   "metadata": {},
   "source": [
    "답변:"
   ]
  },
  {
   "cell_type": "code",
   "execution_count": null,
   "id": "edd8388a",
   "metadata": {},
   "outputs": [],
   "source": []
  },
  {
   "cell_type": "markdown",
   "id": "fa5e91e0",
   "metadata": {},
   "source": [
    "[문제 6] R-CNN(지역 기반 컨볼루션 신경망)의 작동 원리를 설명하고 객체 감지 작업에서의 적용에 대해 설명하시오.\n",
    "- 답변에는 다음 사항이 포함되어야 한다:\n",
    "> - 후보 