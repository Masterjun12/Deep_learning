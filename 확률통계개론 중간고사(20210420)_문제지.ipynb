{
 "cells": [
  {
   "cell_type": "markdown",
   "metadata": {},
   "source": [
    "## 확률통계개론 중간고사\n",
    "*시험시간: 14:30~15:50<br>\n",
    "* 파일이름 작성방법: 확률통계개론_중간고사_성명_학번.ipynb\n",
    "* 답안지 제출 \n",
    "   www.webhard.co.kr<br>\n",
    "   ID: lindsey<br>\n",
    "   PW: start<br>\n",
    "   답안제출: 올리기전용/확률통계개론 중간고사 제출 폴더에 답안제출\n",
    "* 빈칸에 프로그램을 작성한 후 실행결과를 제출"
   ]
  },
  {
   "cell_type": "markdown",
   "metadata": {},
   "source": [
    "##### 문제 1. 확률변수 $X$가 가질 수 있는 값은 $X = \\{0, 1, 2\\}$ 이고  $X$가 가질 수 있는 확률은 다음과 같다.<br>\n",
    "<br>\n",
    "$\\qquad$  $\\qquad$  $\n",
    "P(X=x) = \\left\\{ \\begin{array}{ll} \n",
    "\\frac{1}{4} & \\textrm{$x=0$}\n",
    "\\\\ \n",
    "\\frac{1}{2} & \\textrm{$x=1$}\n",
    "\\\\ \n",
    "\\frac{1}{4} & \\textrm{$x=2$} \n",
    "\\end{array} \\right.\n",
    "$<br>\n",
    "$X$의 기대치와 분산을 구하는 프로그램을 작성하시오"
   ]
  },
  {
   "cell_type": "code",
   "execution_count": 3,
   "metadata": {},
   "outputs": [
    {
     "name": "stdout",
     "output_type": "stream",
     "text": [
      "Expectation = 1.0, Variance = 0.5\n"
     ]
    }
   ],
   "source": []
  },
  {
   "cell_type": "markdown",
   "metadata": {},
   "source": [
    "##### 문제 2. 주사위를 던지는 시행을 생각해보자. 이때 각 눈금이 나타날 확률은 1/6으로 같다. 주사위를 3번 던졌을 때 나타나는 눈금은 어떤 값인지 프로그램을 작성하시오"
   ]
  },
  {
   "cell_type": "code",
   "execution_count": 5,
   "metadata": {},
   "outputs": [
    {
     "name": "stdout",
     "output_type": "stream",
     "text": [
      "1\n",
      "6\n",
      "2\n"
     ]
    }
   ],
   "source": []
  },
  {
   "cell_type": "markdown",
   "metadata": {},
   "source": [
    "##### 문제 3. 주사위를  100번 던지는 시행의 결과를 막대그래프로 그리시오"
   ]
  },
  {
   "cell_type": "code",
   "execution_count": 7,
   "metadata": {},
   "outputs": [
    {
     "data": {
      "image/png": "[encoded data removed]",
      "text/plain": [
       "<Figure size 432x288 with 1 Axes>"
      ]
     },
     "metadata": {
      "needs_background": "light"
     },
     "output_type": "display_data"
    }
   ],
   "source": []
  },
  {
   "cell_type": "markdown",
   "metadata": {},
   "source": [
    "##### 문제 4. 문제 3의 주사위를  100번 던지는 시행에서 표본평균, 중앙값(median), 표본분산값을 구하시오"
   ]
  },
  {
   "cell_type": "code",
   "execution_count": 10,
   "metadata": {},
   "outputs": [
    {
     "data": {
      "text/plain": [
       "(3.41, 3.5, 2.821899999999999)"
      ]
     },
     "execution_count": 10,
     "metadata": {},
     "output_type": "execute_result"
    }
   ],
   "source": []
  },
  {
   "cell_type": "markdown",
   "metadata": {},
   "source": [
    "##### 문제 5. 동전 2개를 동시에 던지는 시행에서 확률변수 $X=$앞면의 수라고할 때, 확률분포함수를 파이썬 함수를 이용하여 작성하고 $X=0, 1, 2$일 확률을 출력하시오"
   ]
  },
  {
   "cell_type": "code",
   "execution_count": 11,
   "metadata": {},
   "outputs": [
    {
     "data": {
      "text/plain": [
       "array([0.25, 0.5 , 0.25])"
      ]
     },
     "execution_count": 11,
     "metadata": {},
     "output_type": "execute_result"
    }
   ],
   "source": []
  },
  {
   "cell_type": "markdown",
   "metadata": {},
   "source": [
    "##### 문제 6. 주사위를 던지는 시행에서 확률변수  $X=$눈금의 수라고할 때, 확률분포함수를 파이썬 함수를 이용하여 작성하고 $X=0, 1, 2, 3, 4, 5, 6$일 확률을 출력하시오. 이때 각 눈금이 나타날 확률은 같다."
   ]
  },
  {
   "cell_type": "code",
   "execution_count": 12,
   "metadata": {},
   "outputs": [
    {
     "data": {
      "text/plain": [
       "array([0.16666667, 0.16666667, 0.16666667, 0.16666667, 0.16666667,\n",
       "       0.16666667])"
      ]
     },
     "execution_count": 12,
     "metadata": {},
     "output_type": "execute_result"
    }
   ],
   "source": []
  },
  {
   "cell_type": "markdown",
   "metadata": {},
   "source": [
    "##### 문제 7. 주사위를 100번 던지는 시행의 표본평균과 표본분산을 구하시오"
   ]
  },
  {
   "cell_type": "code",
   "execution_count": 13,
   "metadata": {},
   "outputs": [
    {
     "data": {
      "text/plain": [
       "(3.65, 2.7274999999999996)"
      ]
     },
     "execution_count": 13,
     "metadata": {},
     "output_type": "execute_result"
    }
   ],
   "source": []
  },
  {
   "cell_type": "code",
   "execution_count": null,
   "metadata": {},
   "outputs": [],
   "source": []
  }
 ],
 "metadata": {
  "kernelspec": {
   "display_name": "Python 3",
   "language": "python",
   "name": "python3"
  },
  "language_info": {
   "codemirror_mode": {
    "name": "ipython",
    "version": 3
   },
   "file_extension": ".py",
   "mimetype": "text/x-python",
   "name": "python",
   "nbconvert_exporter": "python",
   "pygments_lexer": "ipython3",
   "version": "3.8.5"
  }
 },
 "nbformat": 4,
 "nbformat_minor": 4
}
