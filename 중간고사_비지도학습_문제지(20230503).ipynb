{
 "cells": [
  {
   "cell_type": "markdown",
   "id": "addff057",
   "metadata": {},
   "source": [
    "## 비지도학습 중간고사\n",
    "\n",
    "(1) 시험시간: 10:30~11:50분까지<br><br>\n",
    "\n",
    "\n",
    "(2) 파일이름 작성방법: 비지도학습_중간고사_학번_성명.ipynb<br>\n",
    "$\\quad$ $\\checkmark \\ $ 주의사항: jupyternotebook file을 실행해본 후 upload하세요<br>\n",
    "\n",
    "\n",
    "(3) 답안지 제출 <br>\n",
    "$\\qquad$ www.webhard.co.kr<br>\n",
    "$\\qquad$ ID: lindsey<br>\n",
    "$\\qquad$ PW: start<br>\n",
    "$\\qquad$ 답안제출 Folder: 올리기전용/비지도학습/중간고사제출폴더\"에 답안제출<br>\n",
    "$\\quad$ $\\checkmark \\ $ 빈칸에 프로그램을 작성한 후 실행결과를 제출<br>\n",
    "$\\quad$ $\\checkmark \\ $ 시험 시간 이후에 upload된 file은 인정하지 않습니다<br>\n",
    "\n",
    "\n",
    "(4) Report 제출<br>\n",
    "$\\quad$ $\\checkmark \\ $ 이번 주 일요일 밤 12시까지 Report로 다시 제출"
   ]
  },
  {
   "cell_type": "markdown",
   "id": "ad7aa99c",
   "metadata": {},
   "source": [
    "### Dataset 설명\n",
    "$\\bullet \\ $ www.webhard.co.kr <br> \n",
    "$\\quad$ ID: lindsey <br> \n",
    "$\\quad$ PW: start<br> \n",
    "$\\bullet \\ $  내려받기폴더/비지도학습/Mid_tegm 폴더에   Mid_term.csv download <br>\n",
    "$\\bullet \\ $  4개의 feature(feature1, feature2, feature3, feature4)를 가진 dataset이 있다"
   ]
  },
  {
   "cell_type": "markdown",
   "id": "55eadd71",
   "metadata": {},
   "source": [
    "#### [문제 1] 주어진 dataset은 4차원의 dataset이다\n",
    "\n",
    "- PCA를 이용하여 2차원으로 차원축소 하시오"
   ]
  },
  {
   "cell_type": "code",
   "execution_count": null,
   "id": "2281edbc",
   "metadata": {},
   "outputs": [],
   "source": []
  },
  {
   "cell_type": "markdown",
   "id": "ab1e60f5",
   "metadata": {},
   "source": [
    "- PCA로 차원축소된 data를 2차원 평면에 plotting하시오"
   ]
  },
  {
   "cell_type": "code",
   "execution_count": null,
   "id": "76419073",
   "metadata": {},
   "outputs": [],
   "source": []
  },
  {
   "cell_type": "markdown",
   "id": "3950be4c",
   "metadata": {},
   "source": [
    "#### [문제 2] 주어진 dataset은 4차원의 dataset이다\n",
    "\n",
    "- Autoencoder를 이용하여 2차원으로 차원축소 하시오"
   ]
  },
  {
   "cell_type": "code",
   "execution_count": null,
   "id": "1ef52625",
   "metadata": {},
   "outputs": [],
   "source": []
  },
  {
   "cell_type": "markdown",
   "id": "1f02ba2c",
   "metadata": {},
   "source": [
    "- Autoencoder로 차원축소된 data를 2차원 평면에 plotting하시오"
   ]
  },
  {
   "cell_type": "code",
   "execution_count": null,
   "id": "66769a36",
   "metadata": {},
   "outputs": [],
   "source": []
  },
  {
   "cell_type": "markdown",
   "id": "c7078956",
   "metadata": {},
   "source": [
    "#### [문제 3] 주어진 dataset을 2차원으로 차원축소할 수 있는 적절한 행렬을 찾으시오"
   ]
  },
  {
   "cell_type": "markdown",
   "id": "131560f3",
   "metadata": {},
   "source": []
  }
 ],
 "metadata": {
  "kernelspec": {
   "display_name": "Python 3 (ipykernel)",
   "language": "python",
   "name": "python3"
  },
  "language_info": {
   "codemirror_mode": {
    "name": "ipython",
    "version": 3
   },
   "file_extension": ".py",
   "mimetype": "text/x-python",
   "name": "python",
   "nbconvert_exporter": "python",
   "pygments_lexer": "ipython3",
   "version": "3.9.12"
  }
 },
 "nbformat": 4,
 "nbformat_minor": 5
}
